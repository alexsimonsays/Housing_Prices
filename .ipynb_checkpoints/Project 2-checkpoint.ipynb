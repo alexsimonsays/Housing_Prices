{
 "cells": [
  {
   "cell_type": "code",
   "execution_count": 1,
   "metadata": {},
   "outputs": [],
   "source": [
    "import pandas as pd\n",
    "import numpy as np\n",
    "import seaborn as sns\n",
    "import matplotlib.pyplot as plt\n",
    "from sklearn import metrics\n",
    "from sklearn.linear_model import LinearRegression, Lasso, Ridge, LassoCV, RidgeCV, ElasticNetCV\n",
    "from sklearn.model_selection import train_test_split, cross_val_score, cross_val_predict\n",
    "from sklearn.metrics import r2_score\n",
    "from sklearn.preprocessing import StandardScaler, PowerTransformer\n",
    "\n",
    "import statsmodels.api as sm\n"
   ]
  },
  {
   "cell_type": "code",
   "execution_count": 2,
   "metadata": {},
   "outputs": [],
   "source": [
    "train = pd.read_csv('./datasets/train.csv')\n",
    "test = pd.read_csv('./datasets/test.csv')"
   ]
  },
  {
   "cell_type": "markdown",
   "metadata": {},
   "source": [
    "# Cleaning Train data:"
   ]
  },
  {
   "cell_type": "code",
   "execution_count": 3,
   "metadata": {},
   "outputs": [
    {
     "data": {
      "text/plain": [
       "(2051, 81)"
      ]
     },
     "execution_count": 3,
     "metadata": {},
     "output_type": "execute_result"
    }
   ],
   "source": [
    "train.shape"
   ]
  },
  {
   "cell_type": "code",
   "execution_count": 38,
   "metadata": {
    "scrolled": false
   },
   "outputs": [
    {
     "data": {
      "text/html": [
       "<div>\n",
       "<style scoped>\n",
       "    .dataframe tbody tr th:only-of-type {\n",
       "        vertical-align: middle;\n",
       "    }\n",
       "\n",
       "    .dataframe tbody tr th {\n",
       "        vertical-align: top;\n",
       "    }\n",
       "\n",
       "    .dataframe thead th {\n",
       "        text-align: right;\n",
       "    }\n",
       "</style>\n",
       "<table border=\"1\" class=\"dataframe\">\n",
       "  <thead>\n",
       "    <tr style=\"text-align: right;\">\n",
       "      <th></th>\n",
       "      <th>id</th>\n",
       "      <th>pid</th>\n",
       "      <th>ms_subclass</th>\n",
       "      <th>ms_zoning</th>\n",
       "      <th>lot_frontage</th>\n",
       "      <th>lot_area</th>\n",
       "      <th>street</th>\n",
       "      <th>alley</th>\n",
       "      <th>lot_shape</th>\n",
       "      <th>land_contour</th>\n",
       "      <th>utilities</th>\n",
       "      <th>lot_config</th>\n",
       "      <th>land_slope</th>\n",
       "      <th>neighborhood</th>\n",
       "      <th>condition_1</th>\n",
       "      <th>condition_2</th>\n",
       "      <th>bldg_type</th>\n",
       "      <th>house_style</th>\n",
       "      <th>overall_qual</th>\n",
       "      <th>overall_cond</th>\n",
       "      <th>year_built</th>\n",
       "      <th>year_remod/add</th>\n",
       "      <th>roof_style</th>\n",
       "      <th>roof_matl</th>\n",
       "      <th>exterior_1st</th>\n",
       "      <th>exterior_2nd</th>\n",
       "      <th>mas_vnr_type</th>\n",
       "      <th>mas_vnr_area</th>\n",
       "      <th>exter_qual</th>\n",
       "      <th>exter_cond</th>\n",
       "      <th>foundation</th>\n",
       "      <th>bsmt_qual</th>\n",
       "      <th>bsmt_cond</th>\n",
       "      <th>bsmt_exposure</th>\n",
       "      <th>bsmtfin_type_1</th>\n",
       "      <th>bsmtfin_sf_1</th>\n",
       "      <th>bsmtfin_type_2</th>\n",
       "      <th>bsmtfin_sf_2</th>\n",
       "      <th>bsmt_unf_sf</th>\n",
       "      <th>total_bsmt_sf</th>\n",
       "      <th>heating</th>\n",
       "      <th>heating_qc</th>\n",
       "      <th>central_air</th>\n",
       "      <th>electrical</th>\n",
       "      <th>1st_flr_sf</th>\n",
       "      <th>2nd_flr_sf</th>\n",
       "      <th>low_qual_fin_sf</th>\n",
       "      <th>gr_liv_area</th>\n",
       "      <th>bsmt_full_bath</th>\n",
       "      <th>bsmt_half_bath</th>\n",
       "      <th>full_bath</th>\n",
       "      <th>half_bath</th>\n",
       "      <th>bedroom_abvgr</th>\n",
       "      <th>kitchen_abvgr</th>\n",
       "      <th>kitchen_qual</th>\n",
       "      <th>totrms_abvgrd</th>\n",
       "      <th>functional</th>\n",
       "      <th>fireplaces</th>\n",
       "      <th>fireplace_qu</th>\n",
       "      <th>garage_type</th>\n",
       "      <th>garage_yr_blt</th>\n",
       "      <th>garage_finish</th>\n",
       "      <th>garage_cars</th>\n",
       "      <th>garage_area</th>\n",
       "      <th>garage_qual</th>\n",
       "      <th>garage_cond</th>\n",
       "      <th>paved_drive</th>\n",
       "      <th>wood_deck_sf</th>\n",
       "      <th>open_porch_sf</th>\n",
       "      <th>enclosed_porch</th>\n",
       "      <th>3ssn_porch</th>\n",
       "      <th>screen_porch</th>\n",
       "      <th>pool_area</th>\n",
       "      <th>pool_qc</th>\n",
       "      <th>fence</th>\n",
       "      <th>misc_feature</th>\n",
       "      <th>misc_val</th>\n",
       "      <th>mo_sold</th>\n",
       "      <th>yr_sold</th>\n",
       "      <th>sale_type</th>\n",
       "      <th>saleprice</th>\n",
       "    </tr>\n",
       "  </thead>\n",
       "  <tbody>\n",
       "    <tr>\n",
       "      <th>0</th>\n",
       "      <td>109</td>\n",
       "      <td>533352170</td>\n",
       "      <td>60</td>\n",
       "      <td>RL</td>\n",
       "      <td>NaN</td>\n",
       "      <td>13517</td>\n",
       "      <td>Pave</td>\n",
       "      <td>NaN</td>\n",
       "      <td>IR1</td>\n",
       "      <td>Lvl</td>\n",
       "      <td>AllPub</td>\n",
       "      <td>CulDSac</td>\n",
       "      <td>Gtl</td>\n",
       "      <td>Sawyer</td>\n",
       "      <td>RRAe</td>\n",
       "      <td>Norm</td>\n",
       "      <td>1Fam</td>\n",
       "      <td>2Story</td>\n",
       "      <td>6</td>\n",
       "      <td>8</td>\n",
       "      <td>1976</td>\n",
       "      <td>2005</td>\n",
       "      <td>Gable</td>\n",
       "      <td>CompShg</td>\n",
       "      <td>HdBoard</td>\n",
       "      <td>Plywood</td>\n",
       "      <td>BrkFace</td>\n",
       "      <td>289.0</td>\n",
       "      <td>4</td>\n",
       "      <td>3</td>\n",
       "      <td>CBlock</td>\n",
       "      <td>3.0</td>\n",
       "      <td>3.0</td>\n",
       "      <td>No</td>\n",
       "      <td>GLQ</td>\n",
       "      <td>533.0</td>\n",
       "      <td>Unf</td>\n",
       "      <td>0.0</td>\n",
       "      <td>192.0</td>\n",
       "      <td>725.0</td>\n",
       "      <td>GasA</td>\n",
       "      <td>5</td>\n",
       "      <td>Y</td>\n",
       "      <td>SBrkr</td>\n",
       "      <td>725</td>\n",
       "      <td>754</td>\n",
       "      <td>0</td>\n",
       "      <td>1479</td>\n",
       "      <td>0.0</td>\n",
       "      <td>0.0</td>\n",
       "      <td>2</td>\n",
       "      <td>1</td>\n",
       "      <td>3</td>\n",
       "      <td>1</td>\n",
       "      <td>4</td>\n",
       "      <td>6</td>\n",
       "      <td>Typ</td>\n",
       "      <td>0</td>\n",
       "      <td>NaN</td>\n",
       "      <td>Attchd</td>\n",
       "      <td>1976.0</td>\n",
       "      <td>RFn</td>\n",
       "      <td>2.0</td>\n",
       "      <td>475.0</td>\n",
       "      <td>3.0</td>\n",
       "      <td>3.0</td>\n",
       "      <td>Y</td>\n",
       "      <td>0</td>\n",
       "      <td>44</td>\n",
       "      <td>0</td>\n",
       "      <td>0</td>\n",
       "      <td>0</td>\n",
       "      <td>0</td>\n",
       "      <td>NaN</td>\n",
       "      <td>NaN</td>\n",
       "      <td>NaN</td>\n",
       "      <td>0</td>\n",
       "      <td>3</td>\n",
       "      <td>2010</td>\n",
       "      <td>WD</td>\n",
       "      <td>130500</td>\n",
       "    </tr>\n",
       "  </tbody>\n",
       "</table>\n",
       "</div>"
      ],
      "text/plain": [
       "    id        pid  ms_subclass ms_zoning  lot_frontage  lot_area street alley  \\\n",
       "0  109  533352170           60        RL           NaN     13517   Pave   NaN   \n",
       "\n",
       "  lot_shape land_contour utilities lot_config land_slope neighborhood  \\\n",
       "0       IR1          Lvl    AllPub    CulDSac        Gtl       Sawyer   \n",
       "\n",
       "  condition_1 condition_2 bldg_type house_style  overall_qual  overall_cond  \\\n",
       "0        RRAe        Norm      1Fam      2Story             6             8   \n",
       "\n",
       "   year_built  year_remod/add roof_style roof_matl exterior_1st exterior_2nd  \\\n",
       "0        1976            2005      Gable   CompShg      HdBoard      Plywood   \n",
       "\n",
       "  mas_vnr_type  mas_vnr_area  exter_qual  exter_cond foundation  bsmt_qual  \\\n",
       "0      BrkFace         289.0           4           3     CBlock        3.0   \n",
       "\n",
       "   bsmt_cond bsmt_exposure bsmtfin_type_1  bsmtfin_sf_1 bsmtfin_type_2  \\\n",
       "0        3.0            No            GLQ         533.0            Unf   \n",
       "\n",
       "   bsmtfin_sf_2  bsmt_unf_sf  total_bsmt_sf heating  heating_qc central_air  \\\n",
       "0           0.0        192.0          725.0    GasA           5           Y   \n",
       "\n",
       "  electrical  1st_flr_sf  2nd_flr_sf  low_qual_fin_sf  gr_liv_area  \\\n",
       "0      SBrkr         725         754                0         1479   \n",
       "\n",
       "   bsmt_full_bath  bsmt_half_bath  full_bath  half_bath  bedroom_abvgr  \\\n",
       "0             0.0             0.0          2          1              3   \n",
       "\n",
       "   kitchen_abvgr  kitchen_qual  totrms_abvgrd functional  fireplaces  \\\n",
       "0              1             4              6        Typ           0   \n",
       "\n",
       "   fireplace_qu garage_type  garage_yr_blt garage_finish  garage_cars  \\\n",
       "0           NaN      Attchd         1976.0           RFn          2.0   \n",
       "\n",
       "   garage_area  garage_qual  garage_cond paved_drive  wood_deck_sf  \\\n",
       "0        475.0          3.0          3.0           Y             0   \n",
       "\n",
       "   open_porch_sf  enclosed_porch  3ssn_porch  screen_porch  pool_area  \\\n",
       "0             44               0           0             0          0   \n",
       "\n",
       "   pool_qc fence misc_feature  misc_val  mo_sold  yr_sold sale_type  saleprice  \n",
       "0      NaN   NaN          NaN         0        3     2010       WD      130500  "
      ]
     },
     "execution_count": 38,
     "metadata": {},
     "output_type": "execute_result"
    }
   ],
   "source": [
    "train.head(1)"
   ]
  },
  {
   "cell_type": "code",
   "execution_count": 5,
   "metadata": {},
   "outputs": [],
   "source": [
    "pd.set_option('max_columns', 99) # change set columns and rows for viewing of data\n",
    "pd.set_option('max_rows', 99)"
   ]
  },
  {
   "cell_type": "code",
   "execution_count": 6,
   "metadata": {},
   "outputs": [],
   "source": [
    "# making the column heads look conventional\n",
    "\n",
    "train.columns = train.columns.str.lower().str.replace(\" \", \"_\")"
   ]
  },
  {
   "cell_type": "code",
   "execution_count": 7,
   "metadata": {},
   "outputs": [],
   "source": [
    "train.dtypes;"
   ]
  },
  {
   "cell_type": "code",
   "execution_count": 8,
   "metadata": {},
   "outputs": [],
   "source": [
    "### replacing nulls in certain columns with that column's mean:\n",
    "\n",
    "null_cols = ['mas_vnr_area', 'total_bsmt_sf', 'garage_yr_blt', 'garage_cars', 'garage_area']\n",
    "\n",
    "def repl_nulls_w_mean(columns):\n",
    "    for item in columns:\n",
    "        item_mean = train[item].mean()\n",
    "        train[item].fillna(value = item_mean, inplace=True)\n",
    "        \n",
    "repl_nulls_w_mean(null_cols)"
   ]
  },
  {
   "cell_type": "code",
   "execution_count": 9,
   "metadata": {
    "scrolled": true
   },
   "outputs": [
    {
     "data": {
      "text/plain": [
       "Text(0.5, 1.0, 'garage_yr_blt vs. saleprice')"
      ]
     },
     "execution_count": 9,
     "metadata": {},
     "output_type": "execute_result"
    },
    {
     "data": {
      "image/png": "[encoded data removed]",
      "text/plain": [
       "<Figure size 432x288 with 1 Axes>"
      ]
     },
     "metadata": {
      "needs_background": "light"
     },
     "output_type": "display_data"
    }
   ],
   "source": [
    "plt.scatter(train['garage_yr_blt'], train['saleprice'])\n",
    "plt.xlabel(\"Year Garage Built\")\n",
    "plt.ylabel(\"House Price\")\n",
    "plt.title('garage_yr_blt vs. saleprice')"
   ]
  },
  {
   "cell_type": "code",
   "execution_count": 10,
   "metadata": {},
   "outputs": [],
   "source": [
    "# came back up here to drop the following, after looking at some specific scatterplots\n",
    "\n",
    "# dropping a row with an error in the garage_yr_blt column and says 2207\n",
    "train.drop(train.loc[train['garage_yr_blt'] > 2020].index, inplace=True)\n",
    "\n",
    "# dropping a couple outliers in the total_bsmt_sf column\n",
    "train.drop(train.loc[train['total_bsmt_sf'] > 5000].index, inplace=True)\n",
    "\n",
    "# dropping an outlier in the 1st_flr_sf column\n",
    "train.drop(train.loc[train['1st_flr_sf'] > 3500].index, inplace=True)\n",
    "\n",
    "# dropping a few outliers in the year_built column\n",
    "train.drop(train.loc[train['year_built'] == 1892].index, inplace=True)\n",
    "train.drop([1939, 1141], axis=0, inplace=True)\n",
    "train.drop([1897], axis=0, inplace=True)"
   ]
  },
  {
   "cell_type": "code",
   "execution_count": 11,
   "metadata": {},
   "outputs": [],
   "source": [
    "# how I targeted a row within a dataset. There's probably an easier way to do it.\n",
    "\n",
    "# asdf = train.loc[train['year_built'] < 1940];\n",
    "# asdf.loc[train['saleprice'] > 400000];"
   ]
  },
  {
   "cell_type": "code",
   "execution_count": 12,
   "metadata": {
    "scrolled": true
   },
   "outputs": [],
   "source": [
    "train.isnull().sum().sort_values();"
   ]
  },
  {
   "cell_type": "code",
   "execution_count": 13,
   "metadata": {},
   "outputs": [],
   "source": [
    "## Replacing categorical columns with numbers to check for correlations against price\n",
    "# from Dylan \n",
    "\n",
    "category_key = {'NA':0, 'Po':1, 'Fa':2, 'TA':3, 'Gd':4, 'Ex':5}\n",
    "\n",
    "train = train.replace(category_key)"
   ]
  },
  {
   "cell_type": "markdown",
   "metadata": {},
   "source": [
    "# Cleaning Test data"
   ]
  },
  {
   "cell_type": "code",
   "execution_count": 14,
   "metadata": {},
   "outputs": [
    {
     "data": {
      "text/plain": [
       "(878, 80)"
      ]
     },
     "execution_count": 14,
     "metadata": {},
     "output_type": "execute_result"
    }
   ],
   "source": [
    "test.shape"
   ]
  },
  {
   "cell_type": "code",
   "execution_count": 15,
   "metadata": {
    "scrolled": true
   },
   "outputs": [
    {
     "name": "stdout",
     "output_type": "stream",
     "text": [
      "Before replacing nulls with means: overall_qual       0\n",
      "year_built         0\n",
      "year_remod/add     0\n",
      "mas_vnr_area       1\n",
      "total_bsmt_sf      0\n",
      "1st_flr_sf         0\n",
      "gr_liv_area        0\n",
      "full_bath          0\n",
      "garage_yr_blt     45\n",
      "garage_cars        0\n",
      "garage_area        0\n",
      "exter_qual         0\n",
      "kitchen_qual       0\n",
      "dtype: int64\n",
      "After replacing nulls with means: overall_qual      0\n",
      "year_built        0\n",
      "year_remod/add    0\n",
      "mas_vnr_area      0\n",
      "total_bsmt_sf     0\n",
      "1st_flr_sf        0\n",
      "gr_liv_area       0\n",
      "full_bath         0\n",
      "garage_yr_blt     0\n",
      "garage_cars       0\n",
      "garage_area       0\n",
      "exter_qual        0\n",
      "kitchen_qual      0\n",
      "dtype: int64\n"
     ]
    }
   ],
   "source": [
    "features = ['overall_qual', 'year_built', 'year_remod/add', 'mas_vnr_area',\n",
    "            'total_bsmt_sf', '1st_flr_sf', 'gr_liv_area', 'full_bath',\n",
    "            'garage_yr_blt', 'garage_cars', 'garage_area', 'exter_qual', 'kitchen_qual']\n",
    "\n",
    "def clean_data(df):\n",
    "    df.columns = df.columns.str.lower().str.replace(\" \", \"_\")\n",
    "    print(\"Before replacing nulls with means:\", df[features].isnull().sum())\n",
    "    def repl_nulls_w_mean(columns):\n",
    "        for item in columns:\n",
    "            item_mean = df[item].mean()\n",
    "            df[item].fillna(value = item_mean, inplace=True)\n",
    "    repl_nulls_w_mean(null_cols) # nulls_cols was defined earlier in the notebook\n",
    "    print(\"After replacing nulls with means:\", df[features].isnull().sum())\n",
    "\n",
    "test = test.replace(category_key) # for some reason this wouldn't run in the function\n",
    "\n",
    "clean_data(test)"
   ]
  },
  {
   "cell_type": "code",
   "execution_count": 16,
   "metadata": {},
   "outputs": [
    {
     "data": {
      "text/html": [
       "<div>\n",
       "<style scoped>\n",
       "    .dataframe tbody tr th:only-of-type {\n",
       "        vertical-align: middle;\n",
       "    }\n",
       "\n",
       "    .dataframe tbody tr th {\n",
       "        vertical-align: top;\n",
       "    }\n",
       "\n",
       "    .dataframe thead th {\n",
       "        text-align: right;\n",
       "    }\n",
       "</style>\n",
       "<table border=\"1\" class=\"dataframe\">\n",
       "  <thead>\n",
       "    <tr style=\"text-align: right;\">\n",
       "      <th></th>\n",
       "      <th>id</th>\n",
       "      <th>pid</th>\n",
       "      <th>ms_subclass</th>\n",
       "      <th>ms_zoning</th>\n",
       "      <th>lot_frontage</th>\n",
       "      <th>lot_area</th>\n",
       "      <th>street</th>\n",
       "      <th>alley</th>\n",
       "      <th>lot_shape</th>\n",
       "      <th>land_contour</th>\n",
       "      <th>utilities</th>\n",
       "      <th>lot_config</th>\n",
       "      <th>land_slope</th>\n",
       "      <th>neighborhood</th>\n",
       "      <th>condition_1</th>\n",
       "      <th>condition_2</th>\n",
       "      <th>bldg_type</th>\n",
       "      <th>house_style</th>\n",
       "      <th>overall_qual</th>\n",
       "      <th>overall_cond</th>\n",
       "      <th>year_built</th>\n",
       "      <th>year_remod/add</th>\n",
       "      <th>roof_style</th>\n",
       "      <th>roof_matl</th>\n",
       "      <th>exterior_1st</th>\n",
       "      <th>exterior_2nd</th>\n",
       "      <th>mas_vnr_type</th>\n",
       "      <th>mas_vnr_area</th>\n",
       "      <th>exter_qual</th>\n",
       "      <th>exter_cond</th>\n",
       "      <th>foundation</th>\n",
       "      <th>bsmt_qual</th>\n",
       "      <th>bsmt_cond</th>\n",
       "      <th>bsmt_exposure</th>\n",
       "      <th>bsmtfin_type_1</th>\n",
       "      <th>bsmtfin_sf_1</th>\n",
       "      <th>bsmtfin_type_2</th>\n",
       "      <th>bsmtfin_sf_2</th>\n",
       "      <th>bsmt_unf_sf</th>\n",
       "      <th>total_bsmt_sf</th>\n",
       "      <th>heating</th>\n",
       "      <th>heating_qc</th>\n",
       "      <th>central_air</th>\n",
       "      <th>electrical</th>\n",
       "      <th>1st_flr_sf</th>\n",
       "      <th>2nd_flr_sf</th>\n",
       "      <th>low_qual_fin_sf</th>\n",
       "      <th>gr_liv_area</th>\n",
       "      <th>bsmt_full_bath</th>\n",
       "      <th>bsmt_half_bath</th>\n",
       "      <th>full_bath</th>\n",
       "      <th>half_bath</th>\n",
       "      <th>bedroom_abvgr</th>\n",
       "      <th>kitchen_abvgr</th>\n",
       "      <th>kitchen_qual</th>\n",
       "      <th>totrms_abvgrd</th>\n",
       "      <th>functional</th>\n",
       "      <th>fireplaces</th>\n",
       "      <th>fireplace_qu</th>\n",
       "      <th>garage_type</th>\n",
       "      <th>garage_yr_blt</th>\n",
       "      <th>garage_finish</th>\n",
       "      <th>garage_cars</th>\n",
       "      <th>garage_area</th>\n",
       "      <th>garage_qual</th>\n",
       "      <th>garage_cond</th>\n",
       "      <th>paved_drive</th>\n",
       "      <th>wood_deck_sf</th>\n",
       "      <th>open_porch_sf</th>\n",
       "      <th>enclosed_porch</th>\n",
       "      <th>3ssn_porch</th>\n",
       "      <th>screen_porch</th>\n",
       "      <th>pool_area</th>\n",
       "      <th>pool_qc</th>\n",
       "      <th>fence</th>\n",
       "      <th>misc_feature</th>\n",
       "      <th>misc_val</th>\n",
       "      <th>mo_sold</th>\n",
       "      <th>yr_sold</th>\n",
       "      <th>sale_type</th>\n",
       "    </tr>\n",
       "  </thead>\n",
       "  <tbody>\n",
       "    <tr>\n",
       "      <th>0</th>\n",
       "      <td>2658</td>\n",
       "      <td>902301120</td>\n",
       "      <td>190</td>\n",
       "      <td>RM</td>\n",
       "      <td>69.0</td>\n",
       "      <td>9142</td>\n",
       "      <td>Pave</td>\n",
       "      <td>Grvl</td>\n",
       "      <td>Reg</td>\n",
       "      <td>Lvl</td>\n",
       "      <td>AllPub</td>\n",
       "      <td>Inside</td>\n",
       "      <td>Gtl</td>\n",
       "      <td>OldTown</td>\n",
       "      <td>Norm</td>\n",
       "      <td>Norm</td>\n",
       "      <td>2fmCon</td>\n",
       "      <td>2Story</td>\n",
       "      <td>6</td>\n",
       "      <td>8</td>\n",
       "      <td>1910</td>\n",
       "      <td>1950</td>\n",
       "      <td>Gable</td>\n",
       "      <td>CompShg</td>\n",
       "      <td>AsbShng</td>\n",
       "      <td>AsbShng</td>\n",
       "      <td>None</td>\n",
       "      <td>0.0</td>\n",
       "      <td>3</td>\n",
       "      <td>2</td>\n",
       "      <td>Stone</td>\n",
       "      <td>2.0</td>\n",
       "      <td>3.0</td>\n",
       "      <td>No</td>\n",
       "      <td>Unf</td>\n",
       "      <td>0</td>\n",
       "      <td>Unf</td>\n",
       "      <td>0</td>\n",
       "      <td>1020</td>\n",
       "      <td>1020</td>\n",
       "      <td>GasA</td>\n",
       "      <td>4</td>\n",
       "      <td>N</td>\n",
       "      <td>FuseP</td>\n",
       "      <td>908</td>\n",
       "      <td>1020</td>\n",
       "      <td>0</td>\n",
       "      <td>1928</td>\n",
       "      <td>0</td>\n",
       "      <td>0</td>\n",
       "      <td>2</td>\n",
       "      <td>0</td>\n",
       "      <td>4</td>\n",
       "      <td>2</td>\n",
       "      <td>2</td>\n",
       "      <td>9</td>\n",
       "      <td>Typ</td>\n",
       "      <td>0</td>\n",
       "      <td>NaN</td>\n",
       "      <td>Detchd</td>\n",
       "      <td>1910.0</td>\n",
       "      <td>Unf</td>\n",
       "      <td>1</td>\n",
       "      <td>440</td>\n",
       "      <td>1.0</td>\n",
       "      <td>1.0</td>\n",
       "      <td>Y</td>\n",
       "      <td>0</td>\n",
       "      <td>60</td>\n",
       "      <td>112</td>\n",
       "      <td>0</td>\n",
       "      <td>0</td>\n",
       "      <td>0</td>\n",
       "      <td>NaN</td>\n",
       "      <td>NaN</td>\n",
       "      <td>NaN</td>\n",
       "      <td>0</td>\n",
       "      <td>4</td>\n",
       "      <td>2006</td>\n",
       "      <td>WD</td>\n",
       "    </tr>\n",
       "    <tr>\n",
       "      <th>1</th>\n",
       "      <td>2718</td>\n",
       "      <td>905108090</td>\n",
       "      <td>90</td>\n",
       "      <td>RL</td>\n",
       "      <td>NaN</td>\n",
       "      <td>9662</td>\n",
       "      <td>Pave</td>\n",
       "      <td>NaN</td>\n",
       "      <td>IR1</td>\n",
       "      <td>Lvl</td>\n",
       "      <td>AllPub</td>\n",
       "      <td>Inside</td>\n",
       "      <td>Gtl</td>\n",
       "      <td>Sawyer</td>\n",
       "      <td>Norm</td>\n",
       "      <td>Norm</td>\n",
       "      <td>Duplex</td>\n",
       "      <td>1Story</td>\n",
       "      <td>5</td>\n",
       "      <td>4</td>\n",
       "      <td>1977</td>\n",
       "      <td>1977</td>\n",
       "      <td>Gable</td>\n",
       "      <td>CompShg</td>\n",
       "      <td>Plywood</td>\n",
       "      <td>Plywood</td>\n",
       "      <td>None</td>\n",
       "      <td>0.0</td>\n",
       "      <td>3</td>\n",
       "      <td>3</td>\n",
       "      <td>CBlock</td>\n",
       "      <td>4.0</td>\n",
       "      <td>3.0</td>\n",
       "      <td>No</td>\n",
       "      <td>Unf</td>\n",
       "      <td>0</td>\n",
       "      <td>Unf</td>\n",
       "      <td>0</td>\n",
       "      <td>1967</td>\n",
       "      <td>1967</td>\n",
       "      <td>GasA</td>\n",
       "      <td>3</td>\n",
       "      <td>Y</td>\n",
       "      <td>SBrkr</td>\n",
       "      <td>1967</td>\n",
       "      <td>0</td>\n",
       "      <td>0</td>\n",
       "      <td>1967</td>\n",
       "      <td>0</td>\n",
       "      <td>0</td>\n",
       "      <td>2</td>\n",
       "      <td>0</td>\n",
       "      <td>6</td>\n",
       "      <td>2</td>\n",
       "      <td>3</td>\n",
       "      <td>10</td>\n",
       "      <td>Typ</td>\n",
       "      <td>0</td>\n",
       "      <td>NaN</td>\n",
       "      <td>Attchd</td>\n",
       "      <td>1977.0</td>\n",
       "      <td>Fin</td>\n",
       "      <td>2</td>\n",
       "      <td>580</td>\n",
       "      <td>3.0</td>\n",
       "      <td>3.0</td>\n",
       "      <td>Y</td>\n",
       "      <td>170</td>\n",
       "      <td>0</td>\n",
       "      <td>0</td>\n",
       "      <td>0</td>\n",
       "      <td>0</td>\n",
       "      <td>0</td>\n",
       "      <td>NaN</td>\n",
       "      <td>NaN</td>\n",
       "      <td>NaN</td>\n",
       "      <td>0</td>\n",
       "      <td>8</td>\n",
       "      <td>2006</td>\n",
       "      <td>WD</td>\n",
       "    </tr>\n",
       "    <tr>\n",
       "      <th>2</th>\n",
       "      <td>2414</td>\n",
       "      <td>528218130</td>\n",
       "      <td>60</td>\n",
       "      <td>RL</td>\n",
       "      <td>58.0</td>\n",
       "      <td>17104</td>\n",
       "      <td>Pave</td>\n",
       "      <td>NaN</td>\n",
       "      <td>IR1</td>\n",
       "      <td>Lvl</td>\n",
       "      <td>AllPub</td>\n",
       "      <td>Inside</td>\n",
       "      <td>Gtl</td>\n",
       "      <td>Gilbert</td>\n",
       "      <td>Norm</td>\n",
       "      <td>Norm</td>\n",
       "      <td>1Fam</td>\n",
       "      <td>2Story</td>\n",
       "      <td>7</td>\n",
       "      <td>5</td>\n",
       "      <td>2006</td>\n",
       "      <td>2006</td>\n",
       "      <td>Gable</td>\n",
       "      <td>CompShg</td>\n",
       "      <td>VinylSd</td>\n",
       "      <td>VinylSd</td>\n",
       "      <td>None</td>\n",
       "      <td>0.0</td>\n",
       "      <td>4</td>\n",
       "      <td>3</td>\n",
       "      <td>PConc</td>\n",
       "      <td>4.0</td>\n",
       "      <td>4.0</td>\n",
       "      <td>Av</td>\n",
       "      <td>GLQ</td>\n",
       "      <td>554</td>\n",
       "      <td>Unf</td>\n",
       "      <td>0</td>\n",
       "      <td>100</td>\n",
       "      <td>654</td>\n",
       "      <td>GasA</td>\n",
       "      <td>5</td>\n",
       "      <td>Y</td>\n",
       "      <td>SBrkr</td>\n",
       "      <td>664</td>\n",
       "      <td>832</td>\n",
       "      <td>0</td>\n",
       "      <td>1496</td>\n",
       "      <td>1</td>\n",
       "      <td>0</td>\n",
       "      <td>2</td>\n",
       "      <td>1</td>\n",
       "      <td>3</td>\n",
       "      <td>1</td>\n",
       "      <td>4</td>\n",
       "      <td>7</td>\n",
       "      <td>Typ</td>\n",
       "      <td>1</td>\n",
       "      <td>4.0</td>\n",
       "      <td>Attchd</td>\n",
       "      <td>2006.0</td>\n",
       "      <td>RFn</td>\n",
       "      <td>2</td>\n",
       "      <td>426</td>\n",
       "      <td>3.0</td>\n",
       "      <td>3.0</td>\n",
       "      <td>Y</td>\n",
       "      <td>100</td>\n",
       "      <td>24</td>\n",
       "      <td>0</td>\n",
       "      <td>0</td>\n",
       "      <td>0</td>\n",
       "      <td>0</td>\n",
       "      <td>NaN</td>\n",
       "      <td>NaN</td>\n",
       "      <td>NaN</td>\n",
       "      <td>0</td>\n",
       "      <td>9</td>\n",
       "      <td>2006</td>\n",
       "      <td>New</td>\n",
       "    </tr>\n",
       "    <tr>\n",
       "      <th>3</th>\n",
       "      <td>1989</td>\n",
       "      <td>902207150</td>\n",
       "      <td>30</td>\n",
       "      <td>RM</td>\n",
       "      <td>60.0</td>\n",
       "      <td>8520</td>\n",
       "      <td>Pave</td>\n",
       "      <td>NaN</td>\n",
       "      <td>Reg</td>\n",
       "      <td>Lvl</td>\n",
       "      <td>AllPub</td>\n",
       "      <td>Inside</td>\n",
       "      <td>Gtl</td>\n",
       "      <td>OldTown</td>\n",
       "      <td>Norm</td>\n",
       "      <td>Norm</td>\n",
       "      <td>1Fam</td>\n",
       "      <td>1Story</td>\n",
       "      <td>5</td>\n",
       "      <td>6</td>\n",
       "      <td>1923</td>\n",
       "      <td>2006</td>\n",
       "      <td>Gable</td>\n",
       "      <td>CompShg</td>\n",
       "      <td>Wd Sdng</td>\n",
       "      <td>Wd Sdng</td>\n",
       "      <td>None</td>\n",
       "      <td>0.0</td>\n",
       "      <td>4</td>\n",
       "      <td>3</td>\n",
       "      <td>CBlock</td>\n",
       "      <td>3.0</td>\n",
       "      <td>3.0</td>\n",
       "      <td>No</td>\n",
       "      <td>Unf</td>\n",
       "      <td>0</td>\n",
       "      <td>Unf</td>\n",
       "      <td>0</td>\n",
       "      <td>968</td>\n",
       "      <td>968</td>\n",
       "      <td>GasA</td>\n",
       "      <td>3</td>\n",
       "      <td>Y</td>\n",
       "      <td>SBrkr</td>\n",
       "      <td>968</td>\n",
       "      <td>0</td>\n",
       "      <td>0</td>\n",
       "      <td>968</td>\n",
       "      <td>0</td>\n",
       "      <td>0</td>\n",
       "      <td>1</td>\n",
       "      <td>0</td>\n",
       "      <td>2</td>\n",
       "      <td>1</td>\n",
       "      <td>3</td>\n",
       "      <td>5</td>\n",
       "      <td>Typ</td>\n",
       "      <td>0</td>\n",
       "      <td>NaN</td>\n",
       "      <td>Detchd</td>\n",
       "      <td>1935.0</td>\n",
       "      <td>Unf</td>\n",
       "      <td>2</td>\n",
       "      <td>480</td>\n",
       "      <td>2.0</td>\n",
       "      <td>3.0</td>\n",
       "      <td>N</td>\n",
       "      <td>0</td>\n",
       "      <td>0</td>\n",
       "      <td>184</td>\n",
       "      <td>0</td>\n",
       "      <td>0</td>\n",
       "      <td>0</td>\n",
       "      <td>NaN</td>\n",
       "      <td>NaN</td>\n",
       "      <td>NaN</td>\n",
       "      <td>0</td>\n",
       "      <td>7</td>\n",
       "      <td>2007</td>\n",
       "      <td>WD</td>\n",
       "    </tr>\n",
       "    <tr>\n",
       "      <th>4</th>\n",
       "      <td>625</td>\n",
       "      <td>535105100</td>\n",
       "      <td>20</td>\n",
       "      <td>RL</td>\n",
       "      <td>NaN</td>\n",
       "      <td>9500</td>\n",
       "      <td>Pave</td>\n",
       "      <td>NaN</td>\n",
       "      <td>IR1</td>\n",
       "      <td>Lvl</td>\n",
       "      <td>AllPub</td>\n",
       "      <td>Inside</td>\n",
       "      <td>Gtl</td>\n",
       "      <td>NAmes</td>\n",
       "      <td>Norm</td>\n",
       "      <td>Norm</td>\n",
       "      <td>1Fam</td>\n",
       "      <td>1Story</td>\n",
       "      <td>6</td>\n",
       "      <td>5</td>\n",
       "      <td>1963</td>\n",
       "      <td>1963</td>\n",
       "      <td>Gable</td>\n",
       "      <td>CompShg</td>\n",
       "      <td>Plywood</td>\n",
       "      <td>Plywood</td>\n",
       "      <td>BrkFace</td>\n",
       "      <td>247.0</td>\n",
       "      <td>3</td>\n",
       "      <td>3</td>\n",
       "      <td>CBlock</td>\n",
       "      <td>4.0</td>\n",
       "      <td>3.0</td>\n",
       "      <td>No</td>\n",
       "      <td>BLQ</td>\n",
       "      <td>609</td>\n",
       "      <td>Unf</td>\n",
       "      <td>0</td>\n",
       "      <td>785</td>\n",
       "      <td>1394</td>\n",
       "      <td>GasA</td>\n",
       "      <td>4</td>\n",
       "      <td>Y</td>\n",
       "      <td>SBrkr</td>\n",
       "      <td>1394</td>\n",
       "      <td>0</td>\n",
       "      <td>0</td>\n",
       "      <td>1394</td>\n",
       "      <td>1</td>\n",
       "      <td>0</td>\n",
       "      <td>1</td>\n",
       "      <td>1</td>\n",
       "      <td>3</td>\n",
       "      <td>1</td>\n",
       "      <td>3</td>\n",
       "      <td>6</td>\n",
       "      <td>Typ</td>\n",
       "      <td>2</td>\n",
       "      <td>4.0</td>\n",
       "      <td>Attchd</td>\n",
       "      <td>1963.0</td>\n",
       "      <td>RFn</td>\n",
       "      <td>2</td>\n",
       "      <td>514</td>\n",
       "      <td>3.0</td>\n",
       "      <td>3.0</td>\n",
       "      <td>Y</td>\n",
       "      <td>0</td>\n",
       "      <td>76</td>\n",
       "      <td>0</td>\n",
       "      <td>0</td>\n",
       "      <td>185</td>\n",
       "      <td>0</td>\n",
       "      <td>NaN</td>\n",
       "      <td>NaN</td>\n",
       "      <td>NaN</td>\n",
       "      <td>0</td>\n",
       "      <td>7</td>\n",
       "      <td>2009</td>\n",
       "      <td>WD</td>\n",
       "    </tr>\n",
       "  </tbody>\n",
       "</table>\n",
       "</div>"
      ],
      "text/plain": [
       "     id        pid  ms_subclass ms_zoning  lot_frontage  lot_area street  \\\n",
       "0  2658  902301120          190        RM          69.0      9142   Pave   \n",
       "1  2718  905108090           90        RL           NaN      9662   Pave   \n",
       "2  2414  528218130           60        RL          58.0     17104   Pave   \n",
       "3  1989  902207150           30        RM          60.0      8520   Pave   \n",
       "4   625  535105100           20        RL           NaN      9500   Pave   \n",
       "\n",
       "  alley lot_shape land_contour utilities lot_config land_slope neighborhood  \\\n",
       "0  Grvl       Reg          Lvl    AllPub     Inside        Gtl      OldTown   \n",
       "1   NaN       IR1          Lvl    AllPub     Inside        Gtl       Sawyer   \n",
       "2   NaN       IR1          Lvl    AllPub     Inside        Gtl      Gilbert   \n",
       "3   NaN       Reg          Lvl    AllPub     Inside        Gtl      OldTown   \n",
       "4   NaN       IR1          Lvl    AllPub     Inside        Gtl        NAmes   \n",
       "\n",
       "  condition_1 condition_2 bldg_type house_style  overall_qual  overall_cond  \\\n",
       "0        Norm        Norm    2fmCon      2Story             6             8   \n",
       "1        Norm        Norm    Duplex      1Story             5             4   \n",
       "2        Norm        Norm      1Fam      2Story             7             5   \n",
       "3        Norm        Norm      1Fam      1Story             5             6   \n",
       "4        Norm        Norm      1Fam      1Story             6             5   \n",
       "\n",
       "   year_built  year_remod/add roof_style roof_matl exterior_1st exterior_2nd  \\\n",
       "0        1910            1950      Gable   CompShg      AsbShng      AsbShng   \n",
       "1        1977            1977      Gable   CompShg      Plywood      Plywood   \n",
       "2        2006            2006      Gable   CompShg      VinylSd      VinylSd   \n",
       "3        1923            2006      Gable   CompShg      Wd Sdng      Wd Sdng   \n",
       "4        1963            1963      Gable   CompShg      Plywood      Plywood   \n",
       "\n",
       "  mas_vnr_type  mas_vnr_area  exter_qual  exter_cond foundation  bsmt_qual  \\\n",
       "0         None           0.0           3           2      Stone        2.0   \n",
       "1         None           0.0           3           3     CBlock        4.0   \n",
       "2         None           0.0           4           3      PConc        4.0   \n",
       "3         None           0.0           4           3     CBlock        3.0   \n",
       "4      BrkFace         247.0           3           3     CBlock        4.0   \n",
       "\n",
       "   bsmt_cond bsmt_exposure bsmtfin_type_1  bsmtfin_sf_1 bsmtfin_type_2  \\\n",
       "0        3.0            No            Unf             0            Unf   \n",
       "1        3.0            No            Unf             0            Unf   \n",
       "2        4.0            Av            GLQ           554            Unf   \n",
       "3        3.0            No            Unf             0            Unf   \n",
       "4        3.0            No            BLQ           609            Unf   \n",
       "\n",
       "   bsmtfin_sf_2  bsmt_unf_sf  total_bsmt_sf heating  heating_qc central_air  \\\n",
       "0             0         1020           1020    GasA           4           N   \n",
       "1             0         1967           1967    GasA           3           Y   \n",
       "2             0          100            654    GasA           5           Y   \n",
       "3             0          968            968    GasA           3           Y   \n",
       "4             0          785           1394    GasA           4           Y   \n",
       "\n",
       "  electrical  1st_flr_sf  2nd_flr_sf  low_qual_fin_sf  gr_liv_area  \\\n",
       "0      FuseP         908        1020                0         1928   \n",
       "1      SBrkr        1967           0                0         1967   \n",
       "2      SBrkr         664         832                0         1496   \n",
       "3      SBrkr         968           0                0          968   \n",
       "4      SBrkr        1394           0                0         1394   \n",
       "\n",
       "   bsmt_full_bath  bsmt_half_bath  full_bath  half_bath  bedroom_abvgr  \\\n",
       "0               0               0          2          0              4   \n",
       "1               0               0          2          0              6   \n",
       "2               1               0          2          1              3   \n",
       "3               0               0          1          0              2   \n",
       "4               1               0          1          1              3   \n",
       "\n",
       "   kitchen_abvgr  kitchen_qual  totrms_abvgrd functional  fireplaces  \\\n",
       "0              2             2              9        Typ           0   \n",
       "1              2             3             10        Typ           0   \n",
       "2              1             4              7        Typ           1   \n",
       "3              1             3              5        Typ           0   \n",
       "4              1             3              6        Typ           2   \n",
       "\n",
       "   fireplace_qu garage_type  garage_yr_blt garage_finish  garage_cars  \\\n",
       "0           NaN      Detchd         1910.0           Unf            1   \n",
       "1           NaN      Attchd         1977.0           Fin            2   \n",
       "2           4.0      Attchd         2006.0           RFn            2   \n",
       "3           NaN      Detchd         1935.0           Unf            2   \n",
       "4           4.0      Attchd         1963.0           RFn            2   \n",
       "\n",
       "   garage_area  garage_qual  garage_cond paved_drive  wood_deck_sf  \\\n",
       "0          440          1.0          1.0           Y             0   \n",
       "1          580          3.0          3.0           Y           170   \n",
       "2          426          3.0          3.0           Y           100   \n",
       "3          480          2.0          3.0           N             0   \n",
       "4          514          3.0          3.0           Y             0   \n",
       "\n",
       "   open_porch_sf  enclosed_porch  3ssn_porch  screen_porch  pool_area  \\\n",
       "0             60             112           0             0          0   \n",
       "1              0               0           0             0          0   \n",
       "2             24               0           0             0          0   \n",
       "3              0             184           0             0          0   \n",
       "4             76               0           0           185          0   \n",
       "\n",
       "   pool_qc fence misc_feature  misc_val  mo_sold  yr_sold sale_type  \n",
       "0      NaN   NaN          NaN         0        4     2006       WD   \n",
       "1      NaN   NaN          NaN         0        8     2006       WD   \n",
       "2      NaN   NaN          NaN         0        9     2006       New  \n",
       "3      NaN   NaN          NaN         0        7     2007       WD   \n",
       "4      NaN   NaN          NaN         0        7     2009       WD   "
      ]
     },
     "execution_count": 16,
     "metadata": {},
     "output_type": "execute_result"
    }
   ],
   "source": [
    "test.head()"
   ]
  },
  {
   "cell_type": "markdown",
   "metadata": {},
   "source": [
    "# EDA"
   ]
  },
  {
   "cell_type": "code",
   "execution_count": 17,
   "metadata": {},
   "outputs": [
    {
     "data": {
      "image/png": "[encoded data removed]",
      "text/plain": [
       "<Figure size 432x288 with 1 Axes>"
      ]
     },
     "metadata": {
      "needs_background": "light"
     },
     "output_type": "display_data"
    }
   ],
   "source": [
    "plt.hist(train['saleprice'], bins=31);\n",
    "plt.title('House Prices in Training Set');\n",
    "\n",
    "# very skewed means we're going to use a log transformation later to normalize it"
   ]
  },
  {
   "cell_type": "code",
   "execution_count": 18,
   "metadata": {},
   "outputs": [],
   "source": [
    "train.corrwith(train['saleprice']).sort_values();"
   ]
  },
  {
   "cell_type": "markdown",
   "metadata": {},
   "source": [
    "X-variables with > ~50% correlation to use in model:\n",
    "\n",
    "overall_qual, year_built, year_remod/add, mas_vnr_area, total_bsmt_sf, 1st_flr_sf, gr_liv_area, full_bath, garage_yr_blt, garage_cars, garage_area"
   ]
  },
  {
   "cell_type": "code",
   "execution_count": 19,
   "metadata": {},
   "outputs": [
    {
     "data": {
      "text/plain": [
       "overall_qual      0\n",
       "year_built        0\n",
       "year_remod/add    0\n",
       "mas_vnr_area      0\n",
       "total_bsmt_sf     0\n",
       "1st_flr_sf        0\n",
       "gr_liv_area       0\n",
       "full_bath         0\n",
       "garage_yr_blt     0\n",
       "garage_cars       0\n",
       "garage_area       0\n",
       "exter_qual        0\n",
       "kitchen_qual      0\n",
       "dtype: int64"
      ]
     },
     "execution_count": 19,
     "metadata": {},
     "output_type": "execute_result"
    }
   ],
   "source": [
    "# assigning a variable to all of the df's series that I'm going to use as x-variables\n",
    "\n",
    "features = ['overall_qual', 'year_built', 'year_remod/add', 'mas_vnr_area',\n",
    "            'total_bsmt_sf', '1st_flr_sf', 'gr_liv_area', 'full_bath',\n",
    "            'garage_yr_blt', 'garage_cars', 'garage_area', 'exter_qual', 'kitchen_qual']\n",
    "train[features];\n",
    "train[features].isnull().sum()"
   ]
  },
  {
   "cell_type": "code",
   "execution_count": 20,
   "metadata": {
    "scrolled": true
   },
   "outputs": [
    {
     "data": {
      "text/plain": [
       "overall_qual      0.805062\n",
       "exter_qual        0.719481\n",
       "gr_liv_area       0.717267\n",
       "kitchen_qual      0.693431\n",
       "total_bsmt_sf     0.668527\n",
       "garage_area       0.653442\n",
       "1st_flr_sf        0.651122\n",
       "garage_cars       0.649332\n",
       "year_built        0.591220\n",
       "year_remod/add    0.552065\n",
       "full_bath         0.534586\n",
       "garage_yr_blt     0.525170\n",
       "mas_vnr_area      0.523672\n",
       "dtype: float64"
      ]
     },
     "execution_count": 20,
     "metadata": {},
     "output_type": "execute_result"
    }
   ],
   "source": [
    "correlations = train[features].corrwith(train['saleprice']).sort_values(ascending=False)\n",
    "correlations"
   ]
  },
  {
   "cell_type": "code",
   "execution_count": 21,
   "metadata": {},
   "outputs": [
    {
     "data": {
      "text/plain": [
       "<matplotlib.axes._subplots.AxesSubplot at 0x7fc300d1c910>"
      ]
     },
     "execution_count": 21,
     "metadata": {},
     "output_type": "execute_result"
    },
    {
     "data": {
      "image/png": "[encoded data removed]",
      "text/plain": [
       "<Figure size 720x504 with 2 Axes>"
      ]
     },
     "metadata": {
      "needs_background": "light"
     },
     "output_type": "display_data"
    }
   ],
   "source": [
    "fig, ax = plt.subplots(figsize=(10, 7))\n",
    "sns.heatmap(correlations.to_frame(), \n",
    "            cmap='coolwarm',\n",
    "            annot=True,\n",
    "            vmin=-1,\n",
    "            vmax=1,\n",
    "            ax=ax)"
   ]
  },
  {
   "cell_type": "code",
   "execution_count": 22,
   "metadata": {
    "scrolled": true
   },
   "outputs": [
    {
     "data": {
      "text/plain": [
       "Text(0.5, 1.0, 'garage_yr_blt vs. saleprice')"
      ]
     },
     "execution_count": 22,
     "metadata": {},
     "output_type": "execute_result"
    },
    {
     "data": {
      "image/png": "[encoded data removed]",
      "text/plain": [
       "<Figure size 432x288 with 1 Axes>"
      ]
     },
     "metadata": {
      "needs_background": "light"
     },
     "output_type": "display_data"
    }
   ],
   "source": [
    "plt.scatter(train['garage_yr_blt'], train['saleprice'])\n",
    "plt.xlabel(\"Year Garage Built\")\n",
    "plt.ylabel(\"House Price\")\n",
    "plt.title('garage_yr_blt vs. saleprice')"
   ]
  },
  {
   "cell_type": "markdown",
   "metadata": {},
   "source": [
    "# 2. Modeling"
   ]
  },
  {
   "cell_type": "code",
   "execution_count": 23,
   "metadata": {},
   "outputs": [],
   "source": [
    "X = train[features]\n",
    "y = train['saleprice']"
   ]
  },
  {
   "cell_type": "code",
   "execution_count": 24,
   "metadata": {},
   "outputs": [
    {
     "name": "stdout",
     "output_type": "stream",
     "text": [
      "Cross validation scores: [0.82062423 0.87299807 0.85644648 0.85315704 0.84844726]\n",
      "Cross-Val mean of scores: 0.8503346175889073\n"
     ]
    }
   ],
   "source": [
    "# Run a train_test_split:\n",
    "\n",
    "X_train, X_holdout, y_train, y_holdout = train_test_split(X, y, random_state = 42)\n",
    "\n",
    "# instantiate a model\n",
    "lr = LinearRegression()\n",
    "\n",
    "# fit the model\n",
    "lr.fit(X_train, y_train)\n",
    "predictions = lr.predict(X_holdout)\n",
    "\n",
    "# Cross Validating\n",
    "\n",
    "cv_scores = cross_val_score(lr, X, y, cv=5)\n",
    "print(\"Cross validation scores:\", cv_scores)\n",
    "print(\"Cross-Val mean of scores:\", cv_scores.mean())"
   ]
  },
  {
   "cell_type": "code",
   "execution_count": 25,
   "metadata": {},
   "outputs": [
    {
     "name": "stdout",
     "output_type": "stream",
     "text": [
      "Score: 0.8424087168933342\n"
     ]
    },
    {
     "data": {
      "image/png": "[encoded data removed]",
      "text/plain": [
       "<Figure size 432x288 with 1 Axes>"
      ]
     },
     "metadata": {
      "needs_background": "light"
     },
     "output_type": "display_data"
    }
   ],
   "source": [
    "plt.scatter(y_holdout, predictions)\n",
    "plt.xlabel(\"Actual Prices\")\n",
    "plt.ylabel(\"Predicted Values\")\n",
    "plt.title('Actual vs. Predicted: r2 = 0.976')\n",
    "\n",
    "print(\"Score:\", lr.score(X_holdout, y_holdout)) #"
   ]
  },
  {
   "cell_type": "code",
   "execution_count": 26,
   "metadata": {
    "scrolled": true
   },
   "outputs": [
    {
     "name": "stdout",
     "output_type": "stream",
     "text": [
      "RMSE: 31451.854593981632\n"
     ]
    }
   ],
   "source": [
    "# function to find RMSE\n",
    "\n",
    "def get_rmse(preds, y_holdout_vals):\n",
    "    rmse = np.sqrt(np.mean((y_holdout_vals - preds)**2)) # RMSE\n",
    "    print('RMSE:', rmse)\n",
    "          \n",
    "get_rmse(predictions, y_holdout)"
   ]
  },
  {
   "cell_type": "code",
   "execution_count": 27,
   "metadata": {
    "scrolled": true
   },
   "outputs": [
    {
     "data": {
      "text/html": [
       "<table class=\"simpletable\">\n",
       "<caption>OLS Regression Results</caption>\n",
       "<tr>\n",
       "  <th>Dep. Variable:</th>        <td>saleprice</td>    <th>  R-squared (uncentered):</th>      <td>   0.976</td> \n",
       "</tr>\n",
       "<tr>\n",
       "  <th>Model:</th>                   <td>OLS</td>       <th>  Adj. R-squared (uncentered):</th> <td>   0.976</td> \n",
       "</tr>\n",
       "<tr>\n",
       "  <th>Method:</th>             <td>Least Squares</td>  <th>  F-statistic:       </th>          <td>   6290.</td> \n",
       "</tr>\n",
       "<tr>\n",
       "  <th>Date:</th>             <td>Fri, 17 Jan 2020</td> <th>  Prob (F-statistic):</th>           <td>  0.00</td>  \n",
       "</tr>\n",
       "<tr>\n",
       "  <th>Time:</th>                 <td>13:31:26</td>     <th>  Log-Likelihood:    </th>          <td> -24009.</td> \n",
       "</tr>\n",
       "<tr>\n",
       "  <th>No. Observations:</th>      <td>  2043</td>      <th>  AIC:               </th>          <td>4.804e+04</td>\n",
       "</tr>\n",
       "<tr>\n",
       "  <th>Df Residuals:</th>          <td>  2030</td>      <th>  BIC:               </th>          <td>4.812e+04</td>\n",
       "</tr>\n",
       "<tr>\n",
       "  <th>Df Model:</th>              <td>    13</td>      <th>                     </th>              <td> </td>    \n",
       "</tr>\n",
       "<tr>\n",
       "  <th>Covariance Type:</th>      <td>nonrobust</td>    <th>                     </th>              <td> </td>    \n",
       "</tr>\n",
       "</table>\n",
       "<table class=\"simpletable\">\n",
       "<tr>\n",
       "         <td></td>           <th>coef</th>     <th>std err</th>      <th>t</th>      <th>P>|t|</th>  <th>[0.025</th>    <th>0.975]</th>  \n",
       "</tr>\n",
       "<tr>\n",
       "  <th>overall_qual</th>   <td> 1.291e+04</td> <td>  870.437</td> <td>   14.828</td> <td> 0.000</td> <td> 1.12e+04</td> <td> 1.46e+04</td>\n",
       "</tr>\n",
       "<tr>\n",
       "  <th>year_built</th>     <td>  168.7340</td> <td>   42.413</td> <td>    3.978</td> <td> 0.000</td> <td>   85.557</td> <td>  251.911</td>\n",
       "</tr>\n",
       "<tr>\n",
       "  <th>year_remod/add</th> <td>  -61.5269</td> <td>   38.954</td> <td>   -1.579</td> <td> 0.114</td> <td> -137.921</td> <td>   14.868</td>\n",
       "</tr>\n",
       "<tr>\n",
       "  <th>mas_vnr_area</th>   <td>   42.5747</td> <td>    4.628</td> <td>    9.200</td> <td> 0.000</td> <td>   33.499</td> <td>   51.650</td>\n",
       "</tr>\n",
       "<tr>\n",
       "  <th>total_bsmt_sf</th>  <td>   28.1405</td> <td>    2.945</td> <td>    9.556</td> <td> 0.000</td> <td>   22.365</td> <td>   33.916</td>\n",
       "</tr>\n",
       "<tr>\n",
       "  <th>1st_flr_sf</th>     <td>   13.4075</td> <td>    3.356</td> <td>    3.995</td> <td> 0.000</td> <td>    6.826</td> <td>   19.989</td>\n",
       "</tr>\n",
       "<tr>\n",
       "  <th>gr_liv_area</th>    <td>   49.5115</td> <td>    2.198</td> <td>   22.526</td> <td> 0.000</td> <td>   45.201</td> <td>   53.822</td>\n",
       "</tr>\n",
       "<tr>\n",
       "  <th>full_bath</th>      <td>-5426.0468</td> <td> 1726.427</td> <td>   -3.143</td> <td> 0.002</td> <td>-8811.800</td> <td>-2040.294</td>\n",
       "</tr>\n",
       "<tr>\n",
       "  <th>garage_yr_blt</th>  <td> -184.8797</td> <td>   48.618</td> <td>   -3.803</td> <td> 0.000</td> <td> -280.227</td> <td>  -89.533</td>\n",
       "</tr>\n",
       "<tr>\n",
       "  <th>garage_cars</th>    <td>  568.1296</td> <td> 2172.559</td> <td>    0.262</td> <td> 0.794</td> <td>-3692.549</td> <td> 4828.808</td>\n",
       "</tr>\n",
       "<tr>\n",
       "  <th>garage_area</th>    <td>   42.2536</td> <td>    7.625</td> <td>    5.542</td> <td> 0.000</td> <td>   27.301</td> <td>   57.207</td>\n",
       "</tr>\n",
       "<tr>\n",
       "  <th>exter_qual</th>     <td> 1.972e+04</td> <td> 1991.271</td> <td>    9.901</td> <td> 0.000</td> <td> 1.58e+04</td> <td> 2.36e+04</td>\n",
       "</tr>\n",
       "<tr>\n",
       "  <th>kitchen_qual</th>   <td> 1.557e+04</td> <td> 1630.830</td> <td>    9.550</td> <td> 0.000</td> <td> 1.24e+04</td> <td> 1.88e+04</td>\n",
       "</tr>\n",
       "</table>\n",
       "<table class=\"simpletable\">\n",
       "<tr>\n",
       "  <th>Omnibus:</th>       <td>373.073</td> <th>  Durbin-Watson:     </th> <td>   2.095</td>\n",
       "</tr>\n",
       "<tr>\n",
       "  <th>Prob(Omnibus):</th> <td> 0.000</td>  <th>  Jarque-Bera (JB):  </th> <td>2791.670</td>\n",
       "</tr>\n",
       "<tr>\n",
       "  <th>Skew:</th>          <td> 0.649</td>  <th>  Prob(JB):          </th> <td>    0.00</td>\n",
       "</tr>\n",
       "<tr>\n",
       "  <th>Kurtosis:</th>      <td> 8.578</td>  <th>  Cond. No.          </th> <td>1.34e+04</td>\n",
       "</tr>\n",
       "</table><br/><br/>Warnings:<br/>[1] Standard Errors assume that the covariance matrix of the errors is correctly specified.<br/>[2] The condition number is large, 1.34e+04. This might indicate that there are<br/>strong multicollinearity or other numerical problems."
      ],
      "text/plain": [
       "<class 'statsmodels.iolib.summary.Summary'>\n",
       "\"\"\"\n",
       "                                 OLS Regression Results                                \n",
       "=======================================================================================\n",
       "Dep. Variable:              saleprice   R-squared (uncentered):                   0.976\n",
       "Model:                            OLS   Adj. R-squared (uncentered):              0.976\n",
       "Method:                 Least Squares   F-statistic:                              6290.\n",
       "Date:                Fri, 17 Jan 2020   Prob (F-statistic):                        0.00\n",
       "Time:                        13:31:26   Log-Likelihood:                         -24009.\n",
       "No. Observations:                2043   AIC:                                  4.804e+04\n",
       "Df Residuals:                    2030   BIC:                                  4.812e+04\n",
       "Df Model:                          13                                                  \n",
       "Covariance Type:            nonrobust                                                  \n",
       "==================================================================================\n",
       "                     coef    std err          t      P>|t|      [0.025      0.975]\n",
       "----------------------------------------------------------------------------------\n",
       "overall_qual    1.291e+04    870.437     14.828      0.000    1.12e+04    1.46e+04\n",
       "year_built       168.7340     42.413      3.978      0.000      85.557     251.911\n",
       "year_remod/add   -61.5269     38.954     -1.579      0.114    -137.921      14.868\n",
       "mas_vnr_area      42.5747      4.628      9.200      0.000      33.499      51.650\n",
       "total_bsmt_sf     28.1405      2.945      9.556      0.000      22.365      33.916\n",
       "1st_flr_sf        13.4075      3.356      3.995      0.000       6.826      19.989\n",
       "gr_liv_area       49.5115      2.198     22.526      0.000      45.201      53.822\n",
       "full_bath      -5426.0468   1726.427     -3.143      0.002   -8811.800   -2040.294\n",
       "garage_yr_blt   -184.8797     48.618     -3.803      0.000    -280.227     -89.533\n",
       "garage_cars      568.1296   2172.559      0.262      0.794   -3692.549    4828.808\n",
       "garage_area       42.2536      7.625      5.542      0.000      27.301      57.207\n",
       "exter_qual      1.972e+04   1991.271      9.901      0.000    1.58e+04    2.36e+04\n",
       "kitchen_qual    1.557e+04   1630.830      9.550      0.000    1.24e+04    1.88e+04\n",
       "==============================================================================\n",
       "Omnibus:                      373.073   Durbin-Watson:                   2.095\n",
       "Prob(Omnibus):                  0.000   Jarque-Bera (JB):             2791.670\n",
       "Skew:                           0.649   Prob(JB):                         0.00\n",
       "Kurtosis:                       8.578   Cond. No.                     1.34e+04\n",
       "==============================================================================\n",
       "\n",
       "Warnings:\n",
       "[1] Standard Errors assume that the covariance matrix of the errors is correctly specified.\n",
       "[2] The condition number is large, 1.34e+04. This might indicate that there are\n",
       "strong multicollinearity or other numerical problems.\n",
       "\"\"\""
      ]
     },
     "execution_count": 27,
     "metadata": {},
     "output_type": "execute_result"
    }
   ],
   "source": [
    "model = sm.OLS(y, X)\n",
    "model_results = model.fit()\n",
    "model_results.summary()"
   ]
  },
  {
   "cell_type": "code",
   "execution_count": 28,
   "metadata": {},
   "outputs": [],
   "source": [
    "### For Kaggle\n",
    "\n",
    "X_test = test[features]\n",
    "\n",
    "X_test.shape\n",
    "\n",
    "X_test_preds = lr.predict(X_test)\n",
    "X_test_preds.shape\n",
    "\n",
    "test['saleprice'] = X_test_preds\n",
    "\n",
    "submission = test[['id', 'saleprice']]\n",
    "\n",
    "# submission.to_csv('./submissions01_16_draft.csv', index = False)"
   ]
  },
  {
   "cell_type": "markdown",
   "metadata": {},
   "source": [
    "# Transform, Standardize, Regularize, and Remodel"
   ]
  },
  {
   "cell_type": "code",
   "execution_count": 29,
   "metadata": {},
   "outputs": [],
   "source": [
    "# Up in EDA we saw that the sales prices were very right skewed, so let's normalize it:\n",
    "\n",
    "y_train_transformed = np.log1p(y_train)"
   ]
  },
  {
   "cell_type": "code",
   "execution_count": 30,
   "metadata": {
    "scrolled": false
   },
   "outputs": [
    {
     "data": {
      "image/png": "[encoded data removed]",
      "text/plain": [
       "<Figure size 432x288 with 1 Axes>"
      ]
     },
     "metadata": {
      "needs_background": "light"
     },
     "output_type": "display_data"
    }
   ],
   "source": [
    "plt.hist(y_train, bins=25);\n",
    "plt.title('Y_train Sale Prices Originally');"
   ]
  },
  {
   "cell_type": "code",
   "execution_count": 31,
   "metadata": {
    "scrolled": false
   },
   "outputs": [
    {
     "data": {
      "image/png": "[encoded data removed]",
      "text/plain": [
       "<Figure size 432x288 with 1 Axes>"
      ]
     },
     "metadata": {
      "needs_background": "light"
     },
     "output_type": "display_data"
    }
   ],
   "source": [
    "plt.hist(y_train_transformed, bins=25);\n",
    "plt.title('Y_train Sale Prices after np.log1p');"
   ]
  },
  {
   "cell_type": "code",
   "execution_count": 32,
   "metadata": {},
   "outputs": [],
   "source": [
    "# Now let's standardize the X_train data.\n",
    "\n",
    "ss = StandardScaler()\n",
    "X_train_sc = ss.fit_transform(X_train)\n",
    "X_holdout_sc = ss.fit_transform(X_holdout)"
   ]
  },
  {
   "cell_type": "code",
   "execution_count": 33,
   "metadata": {},
   "outputs": [],
   "source": [
    "# Now we regularize with Ridge\n",
    "\n",
    "ridge = Ridge()\n",
    "ridge.fit(X_train_sc, y_train_transformed)\n",
    "ridge_preds = ridge.predict(X_holdout_sc)"
   ]
  },
  {
   "cell_type": "code",
   "execution_count": 34,
   "metadata": {
    "scrolled": true
   },
   "outputs": [
    {
     "name": "stdout",
     "output_type": "stream",
     "text": [
      "Ridge Score: [0.85462047 0.83019001 0.83238981 0.88031873 0.87098479]\n",
      "Ridge Score mean: 0.8537007627992989\n"
     ]
    }
   ],
   "source": [
    "ridge_score = cross_val_score(ridge, X_train_sc, y_train_transformed, cv = 5)\n",
    "print('Ridge Score:', ridge_score)\n",
    "print('Ridge Score mean:', ridge_score.mean())"
   ]
  },
  {
   "cell_type": "code",
   "execution_count": 35,
   "metadata": {},
   "outputs": [],
   "source": [
    "ridge_preds_norm = np.expm1(ridge_preds)"
   ]
  },
  {
   "cell_type": "code",
   "execution_count": 36,
   "metadata": {
    "scrolled": true
   },
   "outputs": [
    {
     "name": "stdout",
     "output_type": "stream",
     "text": [
      "RMSE: 27118.678515168496\n"
     ]
    }
   ],
   "source": [
    "get_rmse(ridge_preds_norm, y_holdout)"
   ]
  },
  {
   "cell_type": "code",
   "execution_count": 37,
   "metadata": {},
   "outputs": [],
   "source": [
    "# running predictions on Test data and creating .csv for Kaggle submission\n",
    "X_test_sc = ss.fit_transform(X_test)\n",
    "X_test_sc_preds = ridge.predict(X_test_sc)\n",
    "X_test_preds_norm = np.expm1(X_test_sc_preds)\n",
    "\n",
    "test['saleprice'] = X_test_preds_norm\n",
    "submission = test[['id', 'saleprice']]\n",
    "submission.to_csv('./submissions01_17_final.csv', index = False)"
   ]
  },
  {
   "cell_type": "markdown",
   "metadata": {},
   "source": [
    "# Recommendations: Some of the more intuitive reasons for the houses' values, like the square footage or the year it was built, can't be changed. However, what can modify are attributes like the external quality and the overall quality of the house. Renovating an older home would up those categories too."
   ]
  },
  {
   "cell_type": "code",
   "execution_count": null,
   "metadata": {},
   "outputs": [],
   "source": []
  }
 ],
 "metadata": {
  "kernelspec": {
   "display_name": "Python 3",
   "language": "python",
   "name": "python3"
  },
  "language_info": {
   "codemirror_mode": {
    "name": "ipython",
    "version": 3
   },
   "file_extension": ".py",
   "mimetype": "text/x-python",
   "name": "python",
   "nbconvert_exporter": "python",
   "pygments_lexer": "ipython3",
   "version": "3.7.4"
  }
 },
 "nbformat": 4,
 "nbformat_minor": 2
}
